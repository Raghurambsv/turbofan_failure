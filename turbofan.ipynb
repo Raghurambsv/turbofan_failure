{
 "cells": [
  {
   "cell_type": "code",
   "execution_count": 250,
   "metadata": {},
   "outputs": [],
   "source": [
    "import pandas as pd\n",
    "import numpy as np\n",
    "import matplotlib.pyplot as plt\n",
    "import tensorflow as tf\n",
    "from sklearn import svm\n",
    "pd.set_option('max_columns', 30)\n",
    "\n",
    "%matplotlib inline"
   ]
  },
  {
   "cell_type": "code",
   "execution_count": 95,
   "metadata": {},
   "outputs": [],
   "source": [
    "def load_train_data(data_name):\n",
    "    data = pd.read_csv('data/train_' + data_name + '.txt', sep = ' ', header = None)\n",
    "    data = data[list(range(0, 26))]\n",
    "    data.rename(columns = {0 : 'unit', 1 : 'cycle'}, inplace = True)\n",
    "    \n",
    "    total_cycles = data.groupby(['unit']).agg({'cycle' : 'max'}).reset_index()\n",
    "    total_cycles.rename(columns = {'cycle' : 'total_cycles'}, inplace = True)\n",
    "    \n",
    "    data = data.merge(total_cycles, how = 'left', left_on = 'unit', right_on = 'unit')\n",
    "    data['TTL'] = data.apply(lambda r: int(r['total_cycles'] - r['cycle']), axis = 1)\n",
    "    \n",
    "    return data "
   ]
  },
  {
   "cell_type": "code",
   "execution_count": 127,
   "metadata": {},
   "outputs": [],
   "source": [
    "def load_test_data(data_name):\n",
    "    data = pd.read_csv('data/test_' + data_name + '.txt', sep = ' ', header = None)\n",
    "    data = data[list(range(0, 26))]\n",
    "    data.rename(columns = {0 : 'unit', 1 : 'cycle'}, inplace = True)\n",
    "    \n",
    "    RUL = pd.read_csv('data/RUL_' + data_name + '.txt', sep = ' ', header = None)\n",
    "    RUL = RUL[list(range(0, 1))]\n",
    "    RUL['unit'] = list(range(1, len(RUL) + 1))\n",
    "    RUL.rename(columns = {0 : 'RUL'}, inplace = True)\n",
    "    \n",
    "    data = data.merge(RUL, how = 'left', left_on = 'unit', right_on = 'unit')    \n",
    "    return data\n",
    "    "
   ]
  },
  {
   "cell_type": "code",
   "execution_count": 218,
   "metadata": {},
   "outputs": [],
   "source": [
    "def normalize(arr):\n",
    "    mean = np.mean(arr)\n",
    "    std = np.std(arr)\n",
    "    \n",
    "    return (arr - mean) / std"
   ]
  },
  {
   "cell_type": "code",
   "execution_count": 479,
   "metadata": {},
   "outputs": [],
   "source": [
    "def compute_score(RUL_real, RUL_pred):\n",
    "    d = RUL_pred - RUL_real\n",
    "    \n",
    "    return np.sum(np.exp(d[d >= 0] / 10)) + np.sum(np.exp(d[d < 0] / 13))\n",
    "\n",
    "def MSE(RUL_real, RUL_pred):\n",
    "    d = RUL_pred - RUL_real\n",
    "    return np.sqrt(np.sum(d ** 2)) / len(d)\n"
   ]
  },
  {
   "cell_type": "code",
   "execution_count": 224,
   "metadata": {},
   "outputs": [],
   "source": [
    "train_fd3 = load_train_data('FD003')\n",
    "test_fd3 = load_test_data('FD003')"
   ]
  },
  {
   "cell_type": "code",
   "execution_count": 307,
   "metadata": {},
   "outputs": [],
   "source": [
    "test_sample_rows = test_fd3.groupby(['unit']).agg({'cycle' : max})\n",
    "test_sample_rows = test_sample_rows.reset_index()\n",
    "test_sample_rows = test_sample_rows.merge(test_fd3, how = 'left', left_on = ['unit', 'cycle'],\n",
    "                                                                 right_on = ['unit', 'cycle'])\n",
    "\n",
    "test_sample_rows['total_cycles'] = test_sample_rows.apply(lambda r: int(r['cycle'] + r['RUL']), axis = 1)"
   ]
  },
  {
   "cell_type": "code",
   "execution_count": 426,
   "metadata": {},
   "outputs": [],
   "source": [
    "y = train_fd3['TTL'].values\n",
    "#X = train_fd3[['cycle'] + list(range(2, 26))]\n",
    "X = train_fd3[list(range(2, 26))]\n",
    "\n",
    "#X_pred = test_sample_rows[['cycle'] + list(range(2, 26))]\n",
    "X_pred = test_sample_rows[list(range(2, 26))]\n",
    "\n",
    "X = X.apply(normalize, axis = 0)\n",
    "X.dropna(how = 'all', axis = 1, inplace = True)\n",
    "\n",
    "X_pred = X_pred.apply(normalize, axis = 0)\n",
    "X_pred.dropna(how = 'all', axis = 1, inplace = True)\n",
    "\n",
    "del X[20]\n",
    "\n",
    "X = X.as_matrix()\n",
    "X_pred = X_pred.as_matrix()"
   ]
  },
  {
   "cell_type": "code",
   "execution_count": 482,
   "metadata": {},
   "outputs": [
    {
     "data": {
      "image/png": "[encoded data removed]",
      "text/plain": [
       "<matplotlib.figure.Figure at 0x1b633990a20>"
      ]
     },
     "metadata": {},
     "output_type": "display_data"
    }
   ],
   "source": [
    "plt.hist(np.abs(y_real - y_pred), bins = 20, edgecolor='black')\n",
    "plt.show()"
   ]
  },
  {
   "cell_type": "code",
   "execution_count": 480,
   "metadata": {},
   "outputs": [
    {
     "data": {
      "text/plain": [
       "(26.91024150193125, 25.31192660550459)"
      ]
     },
     "execution_count": 480,
     "metadata": {},
     "output_type": "execute_result"
    }
   ],
   "source": [
    "compute_score(y_real, y_pred) / 100, 5518 / 218"
   ]
  },
  {
   "cell_type": "code",
   "execution_count": 481,
   "metadata": {},
   "outputs": [
    {
     "data": {
      "text/plain": [
       "2.805778240236724"
      ]
     },
     "execution_count": 481,
     "metadata": {},
     "output_type": "execute_result"
    }
   ],
   "source": [
    "MSE(y_real, y_pred)"
   ]
  },
  {
   "cell_type": "code",
   "execution_count": 476,
   "metadata": {},
   "outputs": [
    {
     "data": {
      "text/plain": [
       "15.194466114044189"
      ]
     },
     "execution_count": 476,
     "metadata": {},
     "output_type": "execute_result"
    }
   ],
   "source": [
    "np.median(np.abs(y_real - y_pred))"
   ]
  },
  {
   "cell_type": "code",
   "execution_count": 475,
   "metadata": {},
   "outputs": [
    {
     "data": {
      "image/png": "[encoded data removed]",
      "text/plain": [
       "<matplotlib.figure.Figure at 0x1b6371c3978>"
      ]
     },
     "metadata": {},
     "output_type": "display_data"
    }
   ],
   "source": [
    "plt.scatter(test_sample_rows['cycle'], y_real, color = 'red')\n",
    "plt.scatter(test_sample_rows['cycle'], y_pred, color = 'blue')\n",
    "#plt.ylim([0, 200])\n",
    "plt.show()"
   ]
  },
  {
   "cell_type": "code",
   "execution_count": 472,
   "metadata": {},
   "outputs": [
    {
     "name": "stdout",
     "output_type": "stream",
     "text": [
      "INFO:tensorflow:Using default config.\n",
      "WARNING:tensorflow:Using temporary folder as model directory: C:\\Users\\Jan\\AppData\\Local\\Temp\\tmp073phnjm\n",
      "INFO:tensorflow:Using config: {'_model_dir': 'C:\\\\Users\\\\Jan\\\\AppData\\\\Local\\\\Temp\\\\tmp073phnjm', '_tf_random_seed': 1, '_save_summary_steps': 100, '_save_checkpoints_secs': 600, '_save_checkpoints_steps': None, '_session_config': None, '_keep_checkpoint_max': 5, '_keep_checkpoint_every_n_hours': 10000, '_log_step_count_steps': 100}\n",
      "INFO:tensorflow:Create CheckpointSaverHook.\n",
      "INFO:tensorflow:Saving checkpoints for 1 into C:\\Users\\Jan\\AppData\\Local\\Temp\\tmp073phnjm\\model.ckpt.\n",
      "INFO:tensorflow:loss = 2.77438e+06, step = 1\n",
      "INFO:tensorflow:Saving checkpoints for 100 into C:\\Users\\Jan\\AppData\\Local\\Temp\\tmp073phnjm\\model.ckpt.\n",
      "INFO:tensorflow:Loss for final step: 278902.0.\n"
     ]
    }
   ],
   "source": [
    "feature_columns = [tf.feature_column.numeric_column(\"x\", shape = [19])]\n",
    "\n",
    "regressor = tf.estimator.DNNRegressor(feature_columns = feature_columns,\n",
    "                                      hidden_units    = [15, 30, 15])\n",
    "\n",
    "train_input_fn = tf.estimator.inputs.numpy_input_fn(x = {\"x\": X},\n",
    "                                                    y = np.array(y, dtype = np.int),\n",
    "                                                    num_epochs = None,\n",
    "                                                    shuffle = True)\n",
    "\n",
    "predict_input_fn = tf.estimator.inputs.numpy_input_fn(x = {\"x\": np.array(X_pred)},\n",
    "                                                      num_epochs = 1,\n",
    "                                                      shuffle = False)\n",
    "\n",
    "regressor.train(input_fn = train_input_fn, steps = 100)\n",
    "y_pred = regressor.predict(predict_input_fn)"
   ]
  },
  {
   "cell_type": "code",
   "execution_count": 473,
   "metadata": {},
   "outputs": [
    {
     "name": "stdout",
     "output_type": "stream",
     "text": [
      "INFO:tensorflow:Restoring parameters from C:\\Users\\Jan\\AppData\\Local\\Temp\\tmp073phnjm\\model.ckpt-100\n"
     ]
    }
   ],
   "source": [
    "y_pred = [val for val in y_pred]\n",
    "y_pred = np.array(list(map(lambda x: x['predictions'][0], y_pred)))"
   ]
  },
  {
   "cell_type": "code",
   "execution_count": 474,
   "metadata": {},
   "outputs": [
    {
     "data": {
      "text/plain": [
       "26.91024150193125"
      ]
     },
     "execution_count": 474,
     "metadata": {},
     "output_type": "execute_result"
    }
   ],
   "source": [
    "compute_score(y_real, y_pred) / 100"
   ]
  }
 ],
 "metadata": {
  "kernelspec": {
   "display_name": "Python 3",
   "language": "python",
   "name": "python3"
  },
  "language_info": {
   "codemirror_mode": {
    "name": "ipython",
    "version": 3
   },
   "file_extension": ".py",
   "mimetype": "text/x-python",
   "name": "python",
   "nbconvert_exporter": "python",
   "pygments_lexer": "ipython3",
   "version": "3.6.2"
  }
 },
 "nbformat": 4,
 "nbformat_minor": 2
}
